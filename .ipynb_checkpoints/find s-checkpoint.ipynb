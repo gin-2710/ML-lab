{
 "cells": [
  {
   "cell_type": "code",
   "execution_count": 9,
   "id": "cde1d5df-8dfc-4c83-b502-c80cea7d1b86",
   "metadata": {},
   "outputs": [],
   "source": [
    "import pandas as pd\n",
    "import numpy as ny\n",
    "import csv"
   ]
  },
  {
   "cell_type": "code",
   "execution_count": 10,
   "id": "d5f6dcf5-f040-4ea2-aa8e-51da611f3be1",
   "metadata": {},
   "outputs": [],
   "source": [
    "data = []\n",
    "with open ('enjoysport_1_2.csv') as file:\n",
    "    reader = csv.reader(file)\n",
    "    for row in reader:\n",
    "        data.append(row)"
   ]
  },
  {
   "cell_type": "code",
   "execution_count": 11,
   "id": "7c9dc1d7-df9a-49cf-8511-ffd47cd4fda1",
   "metadata": {},
   "outputs": [
    {
     "name": "stdout",
     "output_type": "stream",
     "text": [
      "['sunny', 'warm', 'high', 'strong', 'warm', 'same']\n",
      "[['sunny', 'warm', 'normal', 'strong', 'warm', 'same', 'yes'], ['sunny', 'warm', 'high', 'strong', 'warm', 'same', 'yes'], ['rainy', 'cold', 'high', 'strong', 'warm', 'change', 'no'], ['sunny', 'warm', 'high', 'strong', 'cool', 'change', 'yes']]\n"
     ]
    }
   ],
   "source": [
    "n = len(data[0]) -1\n",
    "hypothesis  = data[2][:-1]\n",
    "print(hypothesis)\n",
    "data = data[1:]\n",
    "print(data)"
   ]
  },
  {
   "cell_type": "code",
   "execution_count": 12,
   "id": "5355c339-19c1-43f5-8321-68ea036f411a",
   "metadata": {},
   "outputs": [],
   "source": [
    "for i in range(len(data)):\n",
    "    if data[i][-1] == 'Yes':\n",
    "        for j in range(0,n):\n",
    "            print(j)\n",
    "            if i[j] != hypothesis[j] and hypothesis[j]!= '?':\n",
    "                hypothesis[j] = '?'\n",
    "        print(\"Hypothesis after {} iteration: {}\".format(j, hypothesis))\n",
    "    else:\n",
    "        pass\n",
    "            "
   ]
  },
  {
   "cell_type": "code",
   "execution_count": 13,
   "id": "88e04938-75f6-4582-8989-3d97fb797949",
   "metadata": {},
   "outputs": [
    {
     "name": "stdout",
     "output_type": "stream",
     "text": [
      "['sunny', 'warm', 'high', 'strong', 'warm', 'same']\n"
     ]
    }
   ],
   "source": [
    "print(hypothesis)"
   ]
  },
  {
   "cell_type": "code",
   "execution_count": null,
   "id": "8d86295b-d18e-4cb4-b39a-18e24819957c",
   "metadata": {},
   "outputs": [],
   "source": []
  }
 ],
 "metadata": {
  "kernelspec": {
   "display_name": "Python 3 (ipykernel)",
   "language": "python",
   "name": "python3"
  },
  "language_info": {
   "codemirror_mode": {
    "name": "ipython",
    "version": 3
   },
   "file_extension": ".py",
   "mimetype": "text/x-python",
   "name": "python",
   "nbconvert_exporter": "python",
   "pygments_lexer": "ipython3",
   "version": "3.11.4"
  }
 },
 "nbformat": 4,
 "nbformat_minor": 5
}

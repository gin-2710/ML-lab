{
 "cells": [
  {
   "cell_type": "code",
   "execution_count": 14,
   "id": "2a7cf39f-8378-44b6-a618-d3eb31ec7684",
   "metadata": {},
   "outputs": [],
   "source": [
    "import pandas as pd\n",
    "from sklearn.model_selection import train_test_split\n",
    "# from sklearn.feature_extraction.text import CountVectorizer\n",
    "from sklearn.feature_extraction.text import CountVectorizer\n",
    "from sklearn.naive_bayes import MultinomialNB\n",
    "from sklearn import metrics"
   ]
  },
  {
   "cell_type": "code",
   "execution_count": 13,
   "id": "fe6404e8-1132-4762-b3f9-292c0ae26068",
   "metadata": {},
   "outputs": [
    {
     "name": "stdout",
     "output_type": "stream",
     "text": [
      "                                  message label\n",
      "0                    I love this sandwich   pos\n",
      "1                This is an amazing place   pos\n",
      "2      I feel very good about these beers   pos\n",
      "3                    This is my best work   pos\n",
      "4                    What an awesome view   pos\n",
      "5           I do not like this restaurant   neg\n",
      "6                I am tired of this stuff   neg\n",
      "7                  I can't deal with this   neg\n",
      "8                    He is my sworn enemy   neg\n",
      "9                     My boss is horrible   neg\n",
      "10               This is an awesome place   pos\n",
      "11  I do not like the taste of this juice   neg\n",
      "12                        I love to dance   pos\n",
      "13      I am sick and tired of this place   neg\n",
      "14                   What a great holiday   pos\n",
      "15         That is a bad locality to stay   neg\n",
      "16         We will have good fun tomorrow   pos\n",
      "17       I went to my enemy's house today   neg\n",
      "                                  message label  labelnum\n",
      "0                    I love this sandwich   pos         1\n",
      "1                This is an amazing place   pos         1\n",
      "2      I feel very good about these beers   pos         1\n",
      "3                    This is my best work   pos         1\n",
      "4                    What an awesome view   pos         1\n",
      "5           I do not like this restaurant   neg         0\n",
      "6                I am tired of this stuff   neg         0\n",
      "7                  I can't deal with this   neg         0\n",
      "8                    He is my sworn enemy   neg         0\n",
      "9                     My boss is horrible   neg         0\n",
      "10               This is an awesome place   pos         1\n",
      "11  I do not like the taste of this juice   neg         0\n",
      "12                        I love to dance   pos         1\n",
      "13      I am sick and tired of this place   neg         0\n",
      "14                   What a great holiday   pos         1\n",
      "15         That is a bad locality to stay   neg         0\n",
      "16         We will have good fun tomorrow   pos         1\n",
      "17       I went to my enemy's house today   neg         0\n"
     ]
    }
   ],
   "source": [
    "msg = pd.read_csv(\"lab6.csv\", names=['message', 'label'])\n",
    "print(msg)\n",
    "msg['labelnum'] = msg.label.map({'pos': 1, 'neg': 0})\n",
    "print(msg)\n",
    "X = msg.message\n",
    "Y = msg.labelnum"
   ]
  },
  {
   "cell_type": "code",
   "execution_count": 9,
   "id": "d89e31bd-5cdb-4c13-873e-95c22246bfc1",
   "metadata": {},
   "outputs": [
    {
     "name": "stdout",
     "output_type": "stream",
     "text": [
      "7                    I can't deal with this\n",
      "11    I do not like the taste of this juice\n",
      "10                 This is an awesome place\n",
      "0                      I love this sandwich\n",
      "15           That is a bad locality to stay\n",
      "5             I do not like this restaurant\n",
      "14                     What a great holiday\n",
      "6                  I am tired of this stuff\n",
      "4                      What an awesome view\n",
      "3                      This is my best work\n",
      "17         I went to my enemy's house today\n",
      "9                       My boss is horrible\n",
      "2        I feel very good about these beers\n",
      "Name: message, dtype: object\n",
      "12                      I love to dance\n",
      "8                  He is my sworn enemy\n",
      "13    I am sick and tired of this place\n",
      "16       We will have good fun tomorrow\n",
      "1              This is an amazing place\n",
      "Name: message, dtype: object\n",
      "7                    I can't deal with this\n",
      "11    I do not like the taste of this juice\n",
      "10                 This is an awesome place\n",
      "0                      I love this sandwich\n",
      "15           That is a bad locality to stay\n",
      "5             I do not like this restaurant\n",
      "14                     What a great holiday\n",
      "6                  I am tired of this stuff\n",
      "4                      What an awesome view\n",
      "3                      This is my best work\n",
      "17         I went to my enemy's house today\n",
      "9                       My boss is horrible\n",
      "2        I feel very good about these beers\n",
      "Name: message, dtype: object\n",
      "12                      I love to dance\n",
      "8                  He is my sworn enemy\n",
      "13    I am sick and tired of this place\n",
      "16       We will have good fun tomorrow\n",
      "1              This is an amazing place\n",
      "Name: message, dtype: object\n"
     ]
    }
   ],
   "source": [
    "xtrain, xtest, ytrain, ytest = train_test_split(X, Y)\n",
    "print(xtrain)\n",
    "print(xtest)\n",
    "count_vect = CountVectorizer()\n",
    "xtrain_dtm = count_vect.fit_transform(xtrain)\n",
    "xtest_dtm = count_vect.transform(xtest)\n",
    "print(xtrain)\n",
    "print(xtest)"
   ]
  },
  {
   "cell_type": "code",
   "execution_count": 6,
   "id": "c2c87196-7ad3-4775-93c0-3c5954a448a5",
   "metadata": {},
   "outputs": [
    {
     "name": "stdout",
     "output_type": "stream",
     "text": [
      "I can't deal with this -> neg \n",
      "I am sick and tired of this place -> neg \n",
      "I love this sandwich -> pos \n",
      "This is my best work -> neg \n",
      "This is an amazing place -> pos \n",
      "\n",
      "Accuracy metrics\n",
      "Accuracy of the classifier is 0.8\n",
      "Recall: 0.6666666666666666 \n",
      "Precision: 1.0\n",
      "Confusion matrix\n",
      "[[2 0]\n",
      " [1 2]]\n"
     ]
    }
   ],
   "source": [
    "clf = MultinomialNB().fit(xtrain_dtm, ytrain)\n",
    "predicted = clf.predict(xtest_dtm)\n",
    "\n",
    "for doc, p in zip(xtest, predicted):\n",
    "    if p == 1:\n",
    "        pred = 'pos'\n",
    "    else:\n",
    "        pred = 'neg'\n",
    "    print('%s -> %s ' % (doc, pred))\n",
    "\n",
    "print('\\nAccuracy metrics')\n",
    "print('Accuracy of the classifier is', metrics.accuracy_score(ytest, predicted))\n",
    "print('Recall:', metrics.recall_score(ytest, predicted), '\\nPrecision:', metrics.precision_score(ytest, predicted))\n",
    "print('Confusion matrix')\n",
    "print(metrics.confusion_matrix(ytest, predicted))"
   ]
  },
  {
   "cell_type": "code",
   "execution_count": null,
   "id": "75c475d6-6105-4b42-a180-f3fe8e021058",
   "metadata": {},
   "outputs": [],
   "source": []
  }
 ],
 "metadata": {
  "kernelspec": {
   "display_name": "Python 3 (ipykernel)",
   "language": "python",
   "name": "python3"
  },
  "language_info": {
   "codemirror_mode": {
    "name": "ipython",
    "version": 3
   },
   "file_extension": ".py",
   "mimetype": "text/x-python",
   "name": "python",
   "nbconvert_exporter": "python",
   "pygments_lexer": "ipython3",
   "version": "3.11.4"
  }
 },
 "nbformat": 4,
 "nbformat_minor": 5
}

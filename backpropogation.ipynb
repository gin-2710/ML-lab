{
 "cells": [
  {
   "cell_type": "code",
   "execution_count": 1,
   "id": "64b51bef-c757-4515-abbc-e132790b5f42",
   "metadata": {},
   "outputs": [],
   "source": [
    "import numpy as np"
   ]
  },
  {
   "cell_type": "code",
   "execution_count": 2,
   "id": "31e7a839-2b84-4452-8ad5-7e68530f2cf6",
   "metadata": {},
   "outputs": [],
   "source": [
    "X = np.array(([2, 9], [1, 5], [3, 6]), dtype=float) # Features ( Hrs Slept, Hrs Studied)\n",
    "y = np.array(([92], [86], [89]), dtype=float)# Labels(Marks obtained)\n",
    "X = X/np.amax(X,axis=0) # Normalize\n",
    "y = y/100"
   ]
  },
  {
   "cell_type": "code",
   "execution_count": 3,
   "id": "3e9e023c-42b6-4e31-8976-a2da7fc6f9c8",
   "metadata": {},
   "outputs": [],
   "source": [
    "def sigmoid(x):\n",
    " return 1/(1 + np.exp(-x))\n",
    "def sigmoid_grad(x):\n",
    " return x * (1 - x)"
   ]
  },
  {
   "cell_type": "code",
   "execution_count": 4,
   "id": "fb3df989-14b9-40fb-8351-a39982b9a30a",
   "metadata": {},
   "outputs": [],
   "source": [
    "# Variable initialization\n",
    "epoch=1000 #Setting training iterations\n",
    "eta =0.2 #Setting learning rate (eta)\n",
    "input_neurons = 2 #number of features in data set\n",
    "hidden_neurons = 3 #number of hidden layers neurons\n",
    "output_neurons = 1 #number of neurons at output layer"
   ]
  },
  {
   "cell_type": "code",
   "execution_count": 11,
   "id": "a984c085-11b9-4b56-a8fa-9563c7418553",
   "metadata": {},
   "outputs": [
    {
     "name": "stdout",
     "output_type": "stream",
     "text": [
      "[[0.72418639 0.85017618 0.93380993]\n",
      " [0.80597813 0.5384786  0.4046206 ]]\n",
      "[[0.38502327 0.42029895 0.97967123]]\n",
      "[[0.80487636]\n",
      " [0.45630989]\n",
      " [0.76021439]]\n",
      "[[0.78949729]]\n"
     ]
    }
   ],
   "source": [
    "# Weight and bias - Random initialization\n",
    "wh=np.random.uniform(size=(input_neurons,hidden_neurons)) # 2x3\n",
    "print(wh)\n",
    "bh=np.random.uniform(size=(1,hidden_neurons)) # 1x3\n",
    "print(bh)\n",
    "wout=np.random.uniform(size=(hidden_neurons,output_neurons)) # 1x1\n",
    "print(wout)\n",
    "bout=np.random.uniform(size=(1,output_neurons))\n",
    "print(bout)"
   ]
  },
  {
   "cell_type": "code",
   "execution_count": 6,
   "id": "0617a411-f938-4cb3-8e43-c8a5aa0ad1f7",
   "metadata": {},
   "outputs": [],
   "source": [
    "for i in range(epoch):\n",
    "#Forward Propogation\n",
    " h_ip=np.dot(X,wh) + bh # Dot product + bias\n",
    " h_act = sigmoid(h_ip) # Activation function\n",
    " o_ip=np.dot(h_act,wout) + bout\n",
    " output = sigmoid(o_ip)"
   ]
  },
  {
   "cell_type": "code",
   "execution_count": 8,
   "id": "abb89d14-27f5-4844-bf05-91a9ebd91f10",
   "metadata": {},
   "outputs": [],
   "source": [
    "#Backpropagation\n",
    " # Error at Output layer\n",
    "Eo = y-output # Error at o/p\n",
    "outgrad = sigmoid_grad(output)\n",
    "d_output = Eo* outgrad # Errj=Oj(1-Oj)(Tj-Oj)"
   ]
  },
  {
   "cell_type": "code",
   "execution_count": 14,
   "id": "93807969-2685-4e86-9087-48dfa508bbed",
   "metadata": {},
   "outputs": [],
   "source": [
    "# Error at Hidden later\n",
    "Eh = d_output.dot(wout.T) # .T means transpose\n",
    "hiddengrad = sigmoid_grad(h_act) # How much hidden layer wts contributed to error\n",
    "d_hidden = Eh * hiddengrad\n",
    "wout += h_act.T.dot(d_output) *eta # Dotproduct of nextlayererror and currentlayerop\n",
    "wh += X.T.dot(d_hidden) *eta"
   ]
  },
  {
   "cell_type": "code",
   "execution_count": 13,
   "id": "7d950a6d-a033-4600-b84a-802bc58f22f4",
   "metadata": {},
   "outputs": [
    {
     "name": "stdout",
     "output_type": "stream",
     "text": [
      "Normalized Input: \n",
      "[[0.66666667 1.        ]\n",
      " [0.33333333 0.55555556]\n",
      " [1.         0.66666667]]\n",
      "Actual Output: \n",
      "[[0.92]\n",
      " [0.86]\n",
      " [0.89]]\n",
      "Predicted Output: \n",
      " [[0.81515798]\n",
      " [0.80396907]\n",
      " [0.81352198]]\n"
     ]
    }
   ],
   "source": [
    "print(\"Normalized Input: \\n\" + str(X))\n",
    "print(\"Actual Output: \\n\" + str(y))\n",
    "print(\"Predicted Output: \\n\" ,output)"
   ]
  },
  {
   "cell_type": "code",
   "execution_count": null,
   "id": "87bc7eae-dcf1-4463-b536-b9112f88943c",
   "metadata": {},
   "outputs": [],
   "source": []
  }
 ],
 "metadata": {
  "kernelspec": {
   "display_name": "Python 3 (ipykernel)",
   "language": "python",
   "name": "python3"
  },
  "language_info": {
   "codemirror_mode": {
    "name": "ipython",
    "version": 3
   },
   "file_extension": ".py",
   "mimetype": "text/x-python",
   "name": "python",
   "nbconvert_exporter": "python",
   "pygments_lexer": "ipython3",
   "version": "3.11.4"
  }
 },
 "nbformat": 4,
 "nbformat_minor": 5
}

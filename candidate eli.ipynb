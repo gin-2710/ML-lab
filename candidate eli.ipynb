{
 "cells": [
  {
   "cell_type": "code",
   "execution_count": 59,
   "id": "7f29f1ca-bced-4a11-b1a1-5858daf301b9",
   "metadata": {},
   "outputs": [],
   "source": [
    "import pandas as pd\n",
    "import numpy as ny\n",
    "import csv"
   ]
  },
  {
   "cell_type": "code",
   "execution_count": 60,
   "id": "d82b1deb-b3b4-428b-bd51-3fe5bc2472bd",
   "metadata": {},
   "outputs": [
    {
     "name": "stdout",
     "output_type": "stream",
     "text": [
      "[['Sunny', 'Hot', 'High', 'Weak'], ['Sunny', 'Hot', 'High', 'Strong'], ['Overcast', 'Hot', 'High', 'Weak'], ['Rain', 'Mild', 'High', 'Weak'], ['Rain', 'Cool', 'Normal', 'Weak'], ['Rain', 'Cool', 'Normal', 'Strong'], ['Overcast', 'Cool', 'Normal', 'Strong'], ['Sunny', 'Mild', 'High', 'Weak'], ['Sunny', 'Cool', 'Normal', 'Weak'], ['Rain', 'Mild', 'Normal', 'Weak'], ['Sunny', 'Mild', 'Normal', 'Strong'], ['Overcast', 'Mild', 'High', 'Strong'], ['Overcast', 'Hot', 'Normal', 'Weak'], ['Rain', 'Mild', 'High', 'Strong']]\n",
      "['No', 'No', 'Yes', 'Yes', 'Yes', 'No', 'Yes', 'No', 'Yes', 'Yes', 'Yes', 'Yes', 'Yes', 'No']\n"
     ]
    }
   ],
   "source": [
    "X = []\n",
    "y= []\n",
    "\n",
    "with open('lab1.csv') as file:\n",
    "    reader = csv.reader(file)\n",
    "    for row in reader:\n",
    "        X.append(row[1:][:-1])\n",
    "        y.append(row[:][-1])\n",
    "X.remove(X[0])\n",
    "y.remove(y[0])\n",
    "print(X)\n",
    "print(y)"
   ]
  },
  {
   "cell_type": "code",
   "execution_count": 61,
   "id": "9a04c50f-db5f-4be9-9e98-f4bfe6f5ff00",
   "metadata": {},
   "outputs": [],
   "source": [
    "def learn(X,y):\n",
    "    specific = X[2]\n",
    "    n = len(X[0])\n",
    "    # print(n)\n",
    "    general = [['?' for _ in range(n)] for _ in range(n)]\n",
    "    for i in range(len(X)):\n",
    "        if y[i] == 'Yes':\n",
    "            # print(X[i])\n",
    "            for j in range(n):\n",
    "                if X[i][j]!=specific[j] and specific[j]!= '?':\n",
    "                    specific[j] = '?'\n",
    "                    general[j][j] = '?'\n",
    "        elif y[i] == 'No':\n",
    "            for j in range(n):\n",
    "                if X[i][j]!=specific[j]:\n",
    "                    general[j][j] = specific[j]\n",
    "    for val in general:\n",
    "        if val == ['?','?', '?', '?']:\n",
    "            general.remove(val)\n",
    "\n",
    "    return specific, general\n",
    "    "
   ]
  },
  {
   "cell_type": "code",
   "execution_count": 62,
   "id": "1751d1b4-6ff3-45f6-a300-100869fb0a39",
   "metadata": {},
   "outputs": [
    {
     "name": "stdout",
     "output_type": "stream",
     "text": [
      "Specific hypothesis: ['?', '?', '?', '?']\n",
      "General hypothesis: [['?', '?', '?', '?'], ['?', '?', '?', '?']]\n"
     ]
    }
   ],
   "source": [
    "specific, general = learn(X,y)\n",
    "print(\"Specific hypothesis:\", specific)\n",
    "print(\"General hypothesis:\", general)"
   ]
  }
 ],
 "metadata": {
  "kernelspec": {
   "display_name": "Python 3 (ipykernel)",
   "language": "python",
   "name": "python3"
  },
  "language_info": {
   "codemirror_mode": {
    "name": "ipython",
    "version": 3
   },
   "file_extension": ".py",
   "mimetype": "text/x-python",
   "name": "python",
   "nbconvert_exporter": "python",
   "pygments_lexer": "ipython3",
   "version": "3.11.4"
  }
 },
 "nbformat": 4,
 "nbformat_minor": 5
}

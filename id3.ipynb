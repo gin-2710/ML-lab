{
 "cells": [
  {
   "cell_type": "code",
   "execution_count": 29,
   "id": "a0a61a06-ea80-4c8a-8543-3fddb4a90995",
   "metadata": {},
   "outputs": [],
   "source": [
    "import pandas as pd\n",
    "from pprint import pprint\n",
    "from sklearn.feature_selection import mutual_info_classif\n",
    "from collections import Counter"
   ]
  },
  {
   "cell_type": "code",
   "execution_count": 30,
   "id": "6b0b79aa-c06b-4c2e-8121-1ce50064085d",
   "metadata": {},
   "outputs": [],
   "source": [
    "def id3(df, target_attribute, attribute_names, default_class=None):\n",
    " cnt=Counter(x for x in df[target_attribute])\n",
    " if len(cnt)==1:\n",
    "     return next(iter(cnt))\n",
    "\n",
    " elif df.empty or (not attribute_names):\n",
    "     return default_class\n",
    " else:\n",
    "     gainz = mutual_info_classif(df[attribute_names],df[target_attribute],discrete_features=True)\n",
    "     index_of_max=gainz.tolist().index(max(gainz))\n",
    "     best_attr=attribute_names[index_of_max]\n",
    "     tree={best_attr:{}}\n",
    "     remaining_attribute_names=[i for i in attribute_names if i!=best_attr]\n",
    "     for attr_val, data_subset in df.groupby(best_attr):\n",
    "         subtree=id3(data_subset, target_attribute, remaining_attribute_names,default_class)\n",
    "         tree[best_attr][attr_val]=subtree\n",
    "\n",
    " return tree"
   ]
  },
  {
   "cell_type": "code",
   "execution_count": 31,
   "id": "4f8f6dc7-6cbf-40b8-8aa3-22523bb00822",
   "metadata": {},
   "outputs": [
    {
     "name": "stdout",
     "output_type": "stream",
     "text": [
      "List of attribute name ['Outlook', 'Temperature', 'Humidity', 'Wind', 'Target']\n"
     ]
    }
   ],
   "source": [
    "df=pd.read_csv(\"Playtennis_3.csv\")\n",
    "attribute_names=df.columns.tolist()\n",
    "print(\"List of attribute name\", attribute_names)\n",
    "attribute_names.remove(\"Target\")\n",
    "for colname in df.select_dtypes(\"object\"):\n",
    "    df[colname], _ = df[colname].factorize()"
   ]
  },
  {
   "cell_type": "code",
   "execution_count": 32,
   "id": "b068ab5d-caf2-48ab-99b0-febafb6fdaa5",
   "metadata": {},
   "outputs": [
    {
     "name": "stdout",
     "output_type": "stream",
     "text": [
      "    Outlook  Temperature  Humidity  Wind  Target\n",
      "0         0            0         0     0       0\n",
      "1         0            0         0     1       0\n",
      "2         1            0         0     0       1\n",
      "3         2            1         0     0       1\n",
      "4         2            2         1     0       1\n",
      "5         2            2         1     1       0\n",
      "6         1            2         1     1       1\n",
      "7         0            1         0     0       0\n",
      "8         0            2         1     0       1\n",
      "9         2            1         1     0       1\n",
      "10        0            1         1     1       1\n",
      "11        1            1         0     1       1\n",
      "12        1            0         1     0       1\n",
      "13        2            1         0     1       0\n",
      "The tree structure\n",
      "{'Outlook': {0: {'Humidity': {0: 0, 1: 1}}, 1: 1, 2: {'Wind': {0: 1, 1: 0}}}}\n"
     ]
    }
   ],
   "source": [
    "print(df)\n",
    "tree= id3(df,\"Target\", attribute_names)\n",
    "print(\"The tree structure\")\n",
    "pprint(tree)"
   ]
  },
  {
   "cell_type": "code",
   "execution_count": null,
   "id": "0c88c5c9-b67d-4d1a-9718-345683e19aee",
   "metadata": {},
   "outputs": [],
   "source": []
  }
 ],
 "metadata": {
  "kernelspec": {
   "display_name": "Python 3 (ipykernel)",
   "language": "python",
   "name": "python3"
  },
  "language_info": {
   "codemirror_mode": {
    "name": "ipython",
    "version": 3
   },
   "file_extension": ".py",
   "mimetype": "text/x-python",
   "name": "python",
   "nbconvert_exporter": "python",
   "pygments_lexer": "ipython3",
   "version": "3.11.4"
  }
 },
 "nbformat": 4,
 "nbformat_minor": 5
}
